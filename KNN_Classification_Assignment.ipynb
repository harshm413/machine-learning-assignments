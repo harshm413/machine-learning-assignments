{
  "nbformat": 4,
  "nbformat_minor": 0,
  "metadata": {
    "colab": {
      "provenance": []
    },
    "kernelspec": {
      "name": "python3",
      "display_name": "Python 3"
    },
    "language_info": {
      "name": "python"
    }
  },
  "cells": [
    {
      "cell_type": "code",
      "execution_count": 1,
      "metadata": {
        "colab": {
          "base_uri": "https://localhost:8080/"
        },
        "id": "iRWgRCvBLaE2",
        "outputId": "da9631ad-ec9c-4e61-a30d-a8f8c4cedd31"
      },
      "outputs": [
        {
          "output_type": "stream",
          "name": "stdout",
          "text": [
            "Dataset created and saved as 'diabetes_data.csv'\n"
          ]
        }
      ],
      "source": [
        "import pandas as pd\n",
        "\n",
        "# Create data for the diabetes dataset\n",
        "data = {\n",
        "    'Age': [25, 30, 45, 50, 35, 60, 32, 47, 54, 43,\n",
        "            36, 29, 38, 51, 62, 45, 28, 39, 44, 48,\n",
        "            55, 65, 70, 34, 42, 57, 59, 64, 29, 33,\n",
        "            40, 41, 46, 52, 58, 37, 60, 49, 53, 68,\n",
        "            39, 45, 31, 48, 63, 50, 55, 34, 67, 71],\n",
        "\n",
        "    'BMI': [22.5, 27.0, 30.5, 31.2, 24.0, 35.5, 23.1, 28.6, 29.0, 26.3,\n",
        "            21.7, 25.0, 26.8, 32.1, 34.0, 28.9, 23.8, 24.6, 25.4, 30.0,\n",
        "            32.3, 36.2, 39.0, 22.0, 25.5, 33.0, 34.8, 38.5, 23.9, 27.5,\n",
        "            29.1, 28.7, 31.5, 33.3, 36.0, 26.4, 32.2, 30.1, 34.3, 40.0,\n",
        "            27.0, 28.1, 22.6, 24.3, 31.9, 29.4, 35.1, 23.5, 37.8, 41.5],\n",
        "\n",
        "    'Blood Pressure': [80, 85, 90, 92, 88, 95, 84, 87, 90, 82,\n",
        "                      78, 75, 80, 88, 91, 86, 77, 79, 82, 83,\n",
        "                      88, 92, 95, 81, 76, 85, 87, 90, 74, 79,\n",
        "                      84, 89, 92, 78, 85, 81, 90, 87, 93, 88,\n",
        "                      80, 82, 75, 83, 88, 91, 84, 79, 78, 82],\n",
        "\n",
        "    'Cholesterol': [180, 200, 240, 220, 190, 250, 210, 230, 200, 180,\n",
        "                    175, 185, 205, 225, 230, 215, 170, 200, 240, 260,\n",
        "                    185, 195, 230, 210, 220, 180, 190, 240, 225, 235,\n",
        "                    180, 190, 215, 200, 225, 240, 230, 210, 195, 215,\n",
        "                    180, 185, 200, 230, 220, 215, 210, 240, 250, 230],\n",
        "\n",
        "    'Diabetes': [0, 0, 1, 1, 0, 1, 0, 1, 1, 0,\n",
        "                 0, 0, 1, 1, 1, 1, 0, 0, 1, 1,\n",
        "                 1, 0, 1, 0, 1, 0, 0, 1, 1, 1,\n",
        "                 0, 1, 0, 1, 1, 0, 0, 1, 0, 1,\n",
        "                 1, 1, 1, 0, 0, 0, 1, 1, 1, 0]\n",
        "}\n",
        "\n",
        "# Create a DataFrame\n",
        "df = pd.DataFrame(data)\n",
        "\n",
        "# Save DataFrame to a CSV file\n",
        "df.to_csv('diabetes_data.csv', index=False)\n",
        "\n",
        "print(\"Dataset created and saved as 'diabetes_data.csv'\")\n"
      ]
    },
    {
      "cell_type": "code",
      "source": [
        "import pandas as pd\n",
        "from sklearn.model_selection import train_test_split\n",
        "from sklearn.neighbors import KNeighborsClassifier\n",
        "from sklearn.metrics import accuracy_score, confusion_matrix\n",
        "\n",
        "# Load the dataset\n",
        "df = pd.read_csv('diabetes_data.csv')\n",
        "\n",
        "# Display the first few rows of the dataset\n",
        "print(df.head())\n",
        "\n",
        "# Define features (X) and target variable (y)\n",
        "X = df[['Age', 'BMI', 'Blood Pressure', 'Cholesterol']]\n",
        "y = df['Diabetes']\n",
        "\n",
        "# Split the dataset into training and testing sets\n",
        "X_train, X_test, y_train, y_test = train_test_split(X, y, test_size=0.2, random_state=42)\n",
        "\n",
        "# Create a KNN model\n",
        "knn_model = KNeighborsClassifier(n_neighbors=5)  # You can adjust n_neighbors for different results\n",
        "\n",
        "# Train the model\n",
        "knn_model.fit(X_train, y_train)\n",
        "\n",
        "# Make predictions\n",
        "y_pred = knn_model.predict(X_test)\n",
        "\n",
        "# Evaluate the model\n",
        "accuracy = accuracy_score(y_test, y_pred)\n",
        "conf_matrix = confusion_matrix(y_test, y_pred)\n",
        "\n",
        "print(f'Accuracy: {accuracy}')\n",
        "print('Confusion Matrix:')\n",
        "print(conf_matrix)\n",
        "\n",
        "# Combine the test set with actual and predicted values\n",
        "results = pd.DataFrame(X_test).reset_index(drop=True)\n",
        "results['Actual'] = y_test.reset_index(drop=True)\n",
        "results['Predicted'] = y_pred\n",
        "\n",
        "# Print the results including patient data\n",
        "print(\"\\nPatient Data with Actual vs Predicted:\")\n",
        "print(results)\n"
      ],
      "metadata": {
        "colab": {
          "base_uri": "https://localhost:8080/"
        },
        "id": "7SBtqkaRLuP3",
        "outputId": "9f3d3660-773d-4209-ede7-ba8f9dca0560"
      },
      "execution_count": 2,
      "outputs": [
        {
          "output_type": "stream",
          "name": "stdout",
          "text": [
            "   Age   BMI  Blood Pressure  Cholesterol  Diabetes\n",
            "0   25  22.5              80          180         0\n",
            "1   30  27.0              85          200         0\n",
            "2   45  30.5              90          240         1\n",
            "3   50  31.2              92          220         1\n",
            "4   35  24.0              88          190         0\n",
            "Accuracy: 0.6\n",
            "Confusion Matrix:\n",
            "[[2 4]\n",
            " [0 4]]\n",
            "\n",
            "Patient Data with Actual vs Predicted:\n",
            "   Age   BMI  Blood Pressure  Cholesterol  Actual  Predicted\n",
            "0   51  32.1              88          225       1          1\n",
            "1   68  40.0              88          215       1          1\n",
            "2   40  29.1              84          180       0          1\n",
            "3   50  29.4              91          215       0          1\n",
            "4   39  24.6              79          200       0          0\n",
            "5   67  37.8              78          250       1          1\n",
            "6   59  34.8              87          190       0          1\n",
            "7   57  33.0              85          180       0          0\n",
            "8   46  31.5              92          215       0          1\n",
            "9   48  30.0              83          260       1          1\n"
          ]
        }
      ]
    },
    {
      "cell_type": "code",
      "source": [],
      "metadata": {
        "id": "Lpm7Co-0L5dp"
      },
      "execution_count": null,
      "outputs": []
    }
  ]
}