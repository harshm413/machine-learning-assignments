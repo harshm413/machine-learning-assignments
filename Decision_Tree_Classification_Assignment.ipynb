{
  "nbformat": 4,
  "nbformat_minor": 0,
  "metadata": {
    "colab": {
      "provenance": []
    },
    "kernelspec": {
      "name": "python3",
      "display_name": "Python 3"
    },
    "language_info": {
      "name": "python"
    }
  },
  "cells": [
    {
      "cell_type": "code",
      "execution_count": 1,
      "metadata": {
        "colab": {
          "base_uri": "https://localhost:8080/"
        },
        "id": "d3Mhz-QuMjSm",
        "outputId": "18acd238-a566-4f6f-bf5e-cb1ec5a27104"
      },
      "outputs": [
        {
          "output_type": "stream",
          "name": "stdout",
          "text": [
            "Dataset created and saved as 'loan_approval_data.csv'\n"
          ]
        }
      ],
      "source": [
        "import pandas as pd\n",
        "\n",
        "# Create data for the loan approval dataset\n",
        "data = {\n",
        "    'Applicant Age': [23, 34, 45, 29, 41, 37, 30, 28, 50, 55,\n",
        "                      60, 36, 39, 48, 42, 47, 31, 26, 32, 38,\n",
        "                      44, 53, 62, 27, 33, 46, 40, 52, 58, 61,\n",
        "                      24, 35, 49, 54, 57, 63, 25, 22, 30, 59,\n",
        "                      39, 34, 41, 33, 29, 38, 43, 45, 50, 56],\n",
        "\n",
        "    'Annual Income (USD)': [30000, 60000, 80000, 45000, 70000, 50000,\n",
        "                            48000, 35000, 90000, 120000,\n",
        "                            100000, 55000, 62000, 52000, 40000,\n",
        "                            75000, 68000, 53000, 35000, 60000,\n",
        "                            72000, 81000, 92000, 37000, 54000,\n",
        "                            64000, 73000, 83000, 88000, 99000,\n",
        "                            40000, 50000, 56000, 59000, 64000,\n",
        "                            70000, 31000, 33000, 37000, 42000,\n",
        "                            49000, 46000, 43000, 39000, 38000,\n",
        "                            52000, 59000, 64000, 71000, 78000],\n",
        "\n",
        "    'Credit Score': [650, 700, 750, 620, 690, 680,\n",
        "                     640, 600, 720, 760,\n",
        "                     740, 670, 710, 650, 620,\n",
        "                     720, 730, 660, 580, 600,\n",
        "                     690, 710, 740, 650, 620,\n",
        "                     630, 680, 700, 740, 750,\n",
        "                     640, 670, 690, 710, 730,\n",
        "                     750, 660, 580, 590, 600,\n",
        "                     650, 630, 620, 580, 570,\n",
        "                     580, 610, 680, 720, 740],\n",
        "\n",
        "    'Loan Amount (USD)': [20000, 15000, 30000, 25000, 20000, 18000,\n",
        "                          22000, 17000, 35000, 40000,\n",
        "                          30000, 19000, 20000, 25000, 22000,\n",
        "                          26000, 24000, 21000, 15000, 17000,\n",
        "                          23000, 28000, 32000, 18000, 19000,\n",
        "                          25000, 22000, 24000, 30000, 31000,\n",
        "                          20000, 18000, 19000, 24000, 26000,\n",
        "                          27000, 19000, 18000, 16000, 15000,\n",
        "                          17000, 18000, 20000, 24000, 25000,\n",
        "                          26000, 30000, 31000, 28000, 29000],\n",
        "\n",
        "    'Loan Approved': [1, 1, 1, 0, 1, 1, 0, 0, 1, 1,\n",
        "                     1, 0, 1, 0, 0, 1, 1, 0, 1, 1,\n",
        "                     1, 0, 1, 0, 0, 1, 1, 1, 1, 1,\n",
        "                     0, 1, 0, 1, 1, 1, 1, 0, 0, 0,\n",
        "                     1, 1, 0, 1, 0, 1, 1, 1, 1, 0]\n",
        "}\n",
        "\n",
        "# Create a DataFrame\n",
        "df = pd.DataFrame(data)\n",
        "\n",
        "# Save DataFrame to a CSV file\n",
        "df.to_csv('loan_approval_data.csv', index=False)\n",
        "\n",
        "print(\"Dataset created and saved as 'loan_approval_data.csv'\")\n"
      ]
    },
    {
      "cell_type": "code",
      "source": [
        "import pandas as pd\n",
        "from sklearn.model_selection import train_test_split\n",
        "from sklearn.tree import DecisionTreeClassifier\n",
        "from sklearn.metrics import accuracy_score, confusion_matrix, classification_report\n",
        "\n",
        "# Load the dataset\n",
        "df = pd.read_csv('loan_approval_data.csv')\n",
        "\n",
        "# Display the first few rows of the dataset\n",
        "print(df.head())\n",
        "\n",
        "# Define features (X) and target variable (y)\n",
        "X = df[['Applicant Age', 'Annual Income (USD)', 'Credit Score', 'Loan Amount (USD)']]\n",
        "y = df['Loan Approved']\n",
        "\n",
        "# Split the dataset into training and testing sets\n",
        "X_train, X_test, y_train, y_test = train_test_split(X, y, test_size=0.2, random_state=42)\n",
        "\n",
        "# Create a Decision Tree model\n",
        "dt_model = DecisionTreeClassifier(random_state=42)\n",
        "\n",
        "# Train the model\n",
        "dt_model.fit(X_train, y_train)\n",
        "\n",
        "# Make predictions\n",
        "y_pred = dt_model.predict(X_test)\n",
        "\n",
        "# Evaluate the model\n",
        "accuracy = accuracy_score(y_test, y_pred)\n",
        "conf_matrix = confusion_matrix(y_test, y_pred)\n",
        "class_report = classification_report(y_test, y_pred)\n",
        "\n",
        "print(f'Accuracy: {accuracy}')\n",
        "print('Confusion Matrix:')\n",
        "print(conf_matrix)\n",
        "print('Classification Report:')\n",
        "print(class_report)\n",
        "\n",
        "# Combine the test set with actual and predicted values\n",
        "results = pd.DataFrame(X_test).reset_index(drop=True)\n",
        "results['Actual'] = y_test.reset_index(drop=True)\n",
        "results['Predicted'] = y_pred\n",
        "\n",
        "# Print the results including applicant data\n",
        "print(\"\\nApplicant Data with Actual vs Predicted:\")\n",
        "print(results)\n"
      ],
      "metadata": {
        "colab": {
          "base_uri": "https://localhost:8080/"
        },
        "id": "PtuvFWnQMn33",
        "outputId": "7c15a100-cf5c-4294-e648-3c9ad5d6d1f6"
      },
      "execution_count": 2,
      "outputs": [
        {
          "output_type": "stream",
          "name": "stdout",
          "text": [
            "   Applicant Age  Annual Income (USD)  Credit Score  Loan Amount (USD)  \\\n",
            "0             23                30000           650              20000   \n",
            "1             34                60000           700              15000   \n",
            "2             45                80000           750              30000   \n",
            "3             29                45000           620              25000   \n",
            "4             41                70000           690              20000   \n",
            "\n",
            "   Loan Approved  \n",
            "0              1  \n",
            "1              1  \n",
            "2              1  \n",
            "3              0  \n",
            "4              1  \n",
            "Accuracy: 0.6\n",
            "Confusion Matrix:\n",
            "[[2 3]\n",
            " [1 4]]\n",
            "Classification Report:\n",
            "              precision    recall  f1-score   support\n",
            "\n",
            "           0       0.67      0.40      0.50         5\n",
            "           1       0.57      0.80      0.67         5\n",
            "\n",
            "    accuracy                           0.60        10\n",
            "   macro avg       0.62      0.60      0.58        10\n",
            "weighted avg       0.62      0.60      0.58        10\n",
            "\n",
            "\n",
            "Applicant Data with Actual vs Predicted:\n",
            "   Applicant Age  Annual Income (USD)  Credit Score  Loan Amount (USD)  \\\n",
            "0             48                52000           650              25000   \n",
            "1             59                42000           600              15000   \n",
            "2             24                40000           640              20000   \n",
            "3             38                52000           580              26000   \n",
            "4             26                53000           660              21000   \n",
            "5             50                71000           720              28000   \n",
            "6             40                73000           680              22000   \n",
            "7             46                64000           630              25000   \n",
            "8             49                56000           690              19000   \n",
            "9             38                60000           600              17000   \n",
            "\n",
            "   Actual  Predicted  \n",
            "0       0          1  \n",
            "1       0          1  \n",
            "2       0          0  \n",
            "3       1          1  \n",
            "4       0          0  \n",
            "5       1          1  \n",
            "6       1          1  \n",
            "7       1          0  \n",
            "8       0          1  \n",
            "9       1          1  \n"
          ]
        }
      ]
    },
    {
      "cell_type": "code",
      "source": [],
      "metadata": {
        "id": "B0BuRrLXM4gS"
      },
      "execution_count": null,
      "outputs": []
    }
  ]
}