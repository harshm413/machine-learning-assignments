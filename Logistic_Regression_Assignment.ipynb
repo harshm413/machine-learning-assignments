{
  "nbformat": 4,
  "nbformat_minor": 0,
  "metadata": {
    "colab": {
      "provenance": []
    },
    "kernelspec": {
      "name": "python3",
      "display_name": "Python 3"
    },
    "language_info": {
      "name": "python"
    }
  },
  "cells": [
    {
      "cell_type": "code",
      "execution_count": 1,
      "metadata": {
        "colab": {
          "base_uri": "https://localhost:8080/"
        },
        "id": "F2paa-D2Cjj0",
        "outputId": "829b0d85-4d2e-4b03-810a-a7316ae21c67"
      },
      "outputs": [
        {
          "output_type": "stream",
          "name": "stdout",
          "text": [
            "Dataset created and saved as 'heart_disease.csv'\n"
          ]
        }
      ],
      "source": [
        "import pandas as pd\n",
        "\n",
        "# Create data for the heart disease dataset\n",
        "data = {\n",
        "    'Age': [63, 67, 67, 37, 39, 41, 56, 62, 57, 63,\n",
        "            53, 57, 55, 38, 40, 61, 59, 55, 57, 60,\n",
        "            61, 62, 45, 30, 70, 64, 58, 50, 51, 66,\n",
        "            62, 55, 60, 72, 64, 65, 59, 68, 53, 41,\n",
        "            39, 61, 61, 56, 67, 69, 72, 43, 51, 48],\n",
        "\n",
        "    'Sex': [1, 1, 1, 1, 0, 0, 1, 1, 0, 1,\n",
        "            1, 0, 0, 1, 1, 1, 0, 1, 0, 1,\n",
        "            1, 0, 1, 0, 1, 1, 0, 0, 1, 1,\n",
        "            0, 1, 0, 1, 1, 0, 0, 1, 1, 0,\n",
        "            0, 1, 1, 0, 1, 1, 0, 1, 1, 0],\n",
        "\n",
        "    'Cholesterol': [245, 221, 232, 204, 245, 235, 180, 150, 190, 210,\n",
        "                    210, 220, 230, 195, 250, 180, 220, 205, 160, 180,\n",
        "                    220, 240, 180, 250, 200, 180, 220, 230, 250, 260,\n",
        "                    215, 240, 180, 210, 200, 240, 260, 180, 175, 190,\n",
        "                    230, 240, 225, 220, 210, 215, 200, 230, 190, 205],\n",
        "\n",
        "    'Blood Pressure': [130, 140, 130, 120, 135, 125, 145, 150, 130, 140,\n",
        "                      145, 135, 130, 125, 120, 130, 145, 135, 150, 130,\n",
        "                      140, 150, 135, 140, 130, 130, 145, 130, 140, 150,\n",
        "                      135, 140, 145, 130, 120, 135, 150, 145, 130, 135,\n",
        "                      130, 150, 140, 145, 135, 130, 130, 140, 145, 150],\n",
        "\n",
        "    'Heart Disease': [1, 1, 1, 0, 0, 0, 1, 1, 0, 1,\n",
        "                     1, 0, 0, 0, 1, 1, 1, 0, 0, 1,\n",
        "                     1, 0, 1, 0, 1, 0, 0, 1, 1, 1,\n",
        "                     1, 0, 0, 1, 1, 1, 1, 0, 0, 0,\n",
        "                     1, 1, 1, 0, 0, 1, 1, 1, 0, 1]\n",
        "}\n",
        "\n",
        "# Create a DataFrame\n",
        "df = pd.DataFrame(data)\n",
        "\n",
        "# Save DataFrame to a CSV file\n",
        "df.to_csv('heart_disease.csv', index=False)\n",
        "\n",
        "print(\"Dataset created and saved as 'heart_disease.csv'\")\n"
      ]
    },
    {
      "cell_type": "code",
      "source": [
        "import pandas as pd\n",
        "from sklearn.model_selection import train_test_split\n",
        "from sklearn.linear_model import LogisticRegression\n",
        "from sklearn.metrics import accuracy_score, confusion_matrix\n",
        "\n",
        "# Load the dataset\n",
        "df = pd.read_csv('heart_disease.csv')\n",
        "\n",
        "# Display the first few rows of the dataset\n",
        "print(df.head())\n",
        "\n",
        "# Define features (X) and target variable (y)\n",
        "X = df[['Age', 'Sex', 'Cholesterol', 'Blood Pressure']]\n",
        "y = df['Heart Disease']\n",
        "\n",
        "# Split the dataset into training and testing sets\n",
        "X_train, X_test, y_train, y_test = train_test_split(X, y, test_size=0.2, random_state=42)\n",
        "\n",
        "# Create a Logistic Regression model\n",
        "logistic_model = LogisticRegression()\n",
        "\n",
        "# Train the model\n",
        "logistic_model.fit(X_train, y_train)\n",
        "\n",
        "# Make predictions\n",
        "y_pred = logistic_model.predict(X_test)\n",
        "\n",
        "# Evaluate the model\n",
        "accuracy = accuracy_score(y_test, y_pred)\n",
        "conf_matrix = confusion_matrix(y_test, y_pred)\n",
        "\n",
        "print(f'Accuracy: {accuracy}')\n",
        "print('Confusion Matrix:')\n",
        "print(conf_matrix)\n",
        "\n",
        "# Combine the test set with actual and predicted values\n",
        "results = pd.DataFrame(X_test).reset_index(drop=True)\n",
        "results['Actual'] = y_test.reset_index(drop=True)\n",
        "results['Predicted'] = y_pred\n",
        "\n",
        "# Print the results including patient data\n",
        "print(\"\\nPatient Data with Actual vs Predicted:\")\n",
        "print(results)\n"
      ],
      "metadata": {
        "colab": {
          "base_uri": "https://localhost:8080/"
        },
        "id": "Xj6SjBy6C17B",
        "outputId": "fd6cb786-649d-4699-f6e1-7407aabd8aef"
      },
      "execution_count": 5,
      "outputs": [
        {
          "output_type": "stream",
          "name": "stdout",
          "text": [
            "   Age  Sex  Cholesterol  Blood Pressure  Heart Disease\n",
            "0   63    1          245             130              1\n",
            "1   67    1          221             140              1\n",
            "2   67    1          232             130              1\n",
            "3   37    1          204             120              0\n",
            "4   39    0          245             135              0\n",
            "Accuracy: 0.6\n",
            "Confusion Matrix:\n",
            "[[3 4]\n",
            " [0 3]]\n",
            "\n",
            "Patient Data with Actual vs Predicted:\n",
            "   Age  Sex  Cholesterol  Blood Pressure  Actual  Predicted\n",
            "0   38    1          195             125       0          0\n",
            "1   41    0          190             135       0          0\n",
            "2   62    0          215             135       1          1\n",
            "3   69    1          215             130       1          1\n",
            "4   55    1          205             135       0          1\n",
            "5   51    1          190             145       0          1\n",
            "6   58    0          220             145       0          1\n",
            "7   64    1          180             130       0          1\n",
            "8   60    0          180             145       0          0\n",
            "9   60    1          180             130       1          1\n"
          ]
        }
      ]
    },
    {
      "cell_type": "code",
      "source": [],
      "metadata": {
        "id": "_or5Grd-C-wl"
      },
      "execution_count": null,
      "outputs": []
    }
  ]
}